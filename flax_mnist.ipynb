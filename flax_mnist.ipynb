{
 "cells": [
  {
   "attachments": {},
   "cell_type": "markdown",
   "metadata": {},
   "source": [
    "# Imports"
   ]
  },
  {
   "cell_type": "code",
   "execution_count": 1,
   "metadata": {},
   "outputs": [
    {
     "name": "stderr",
     "output_type": "stream",
     "text": [
      "2023-01-11 12:02:49.306234: I tensorflow/core/platform/cpu_feature_guard.cc:193] This TensorFlow binary is optimized with oneAPI Deep Neural Network Library (oneDNN) to use the following CPU instructions in performance-critical operations:  AVX2 FMA\n",
      "To enable them in other operations, rebuild TensorFlow with the appropriate compiler flags.\n",
      "2023-01-11 12:02:49.950250: W tensorflow/compiler/xla/stream_executor/platform/default/dso_loader.cc:64] Could not load dynamic library 'libnvinfer.so.7'; dlerror: libnvinfer.so.7: cannot open shared object file: No such file or directory; LD_LIBRARY_PATH: /usr/local/TensorRT-8.5.2.2/lib:/usr/local/cuda-11.5/lib64::/home/minuano/.mujoco/mjpro150/bin\n",
      "2023-01-11 12:02:49.950325: W tensorflow/compiler/xla/stream_executor/platform/default/dso_loader.cc:64] Could not load dynamic library 'libnvinfer_plugin.so.7'; dlerror: libnvinfer_plugin.so.7: cannot open shared object file: No such file or directory; LD_LIBRARY_PATH: /usr/local/TensorRT-8.5.2.2/lib:/usr/local/cuda-11.5/lib64::/home/minuano/.mujoco/mjpro150/bin\n",
      "2023-01-11 12:02:49.950331: W tensorflow/compiler/tf2tensorrt/utils/py_utils.cc:38] TF-TRT Warning: Cannot dlopen some TensorRT libraries. If you would like to use Nvidia GPU with TensorRT, please make sure the missing libraries mentioned above are installed properly.\n"
     ]
    }
   ],
   "source": [
    "import tensorflow as tf\n",
    "tf.config.experimental.set_visible_devices([], 'GPU')\n",
    "import os\n",
    "os.environ['XLA_PYTHON_CLIENT_PREALLOCATE'] ='false'\n",
    "os.environ['XLA_PYTHON_CLIENT_ALLOCATOR']='platform'\n",
    "os.environ['TF_FORCE_GPU_ALLOW_GROWTH'] = 'true'"
   ]
  },
  {
   "cell_type": "code",
   "execution_count": 2,
   "metadata": {},
   "outputs": [],
   "source": [
    "import jax\n",
    "import jax.numpy as jnp\n",
    "\n",
    "import flax\n",
    "from flax import linen as nn\n",
    "from flax.training import train_state, checkpoints\n",
    "\n",
    "import optax\n",
    "\n",
    "import numpy as np\n",
    "\n",
    "from matplotlib import pyplot as plt\n",
    "\n",
    "from tqdm import tqdm"
   ]
  },
  {
   "attachments": {},
   "cell_type": "markdown",
   "metadata": {},
   "source": [
    "# Model Definitions (TODO: Documentation)"
   ]
  },
  {
   "attachments": {},
   "cell_type": "markdown",
   "metadata": {},
   "source": [
    "## Level 0: Simple CNN"
   ]
  },
  {
   "cell_type": "code",
   "execution_count": 3,
   "metadata": {},
   "outputs": [],
   "source": [
    "class SimpleMNISTCNN(nn.Module):\n",
    "\n",
    "    @nn.compact\n",
    "    def __call__(self, x): # x -> 28 x 28 x 1\n",
    "        x = nn.Conv(features=32, kernel_size=(3, 3))(x) # x -> BS x 26 x 26 x 32\n",
    "        x = nn.relu(x)\n",
    "        x = nn.avg_pool(x, window_shape=(2, 2), strides=(2, 2)) # x -> BS x 14 x 14 x 32\n",
    "        x = nn.Conv(features=64, kernel_size=(3, 3))(x) # x -> BS x 12 x 12 x 64\n",
    "        x = nn.relu(x)\n",
    "        x = nn.avg_pool(x, window_shape=(2, 2), strides=(2, 2)) # x -> BS x 6 x 6 x 64\n",
    "        x = x.reshape((x.shape[0], -1)) # x ->BS x 2304\n",
    "        x = nn.Dense(features=256)(x) # x -> BS x 256\n",
    "        x = nn.relu(x)\n",
    "        x = nn.Dense(features=10)(x) # x -> BS x 10\n",
    "        return x\n"
   ]
  },
  {
   "attachments": {},
   "cell_type": "markdown",
   "metadata": {},
   "source": [
    "## Level 1: CNN with BatchNorm and DropOut"
   ]
  },
  {
   "cell_type": "code",
   "execution_count": 4,
   "metadata": {},
   "outputs": [],
   "source": [
    "class BNDOMNISTCNN(nn.Module):\n",
    "    \n",
    "    @nn.compact\n",
    "    def __call__(self, x, training):\n",
    "        ## CONV BLOCK 1\n",
    "        x = nn.Conv(features=32, kernel_size=(3, 3))(x)\n",
    "        x = nn.BatchNorm(use_running_average=not training)(x)\n",
    "        x = nn.relu(x)\n",
    "        x = nn.avg_pool(x, window_shape=(2, 2), strides=(2, 2))\n",
    "        ## CONV BLOCK 2\n",
    "        x = nn.Conv(features=64, kernel_size=(3, 3))(x)\n",
    "        x = nn.BatchNorm(use_running_average=not training)(x)\n",
    "        x = nn.relu(x)\n",
    "        x = nn.avg_pool(x, window_shape=(2, 2), strides=(2, 2))\n",
    "        # FLATTEN\n",
    "        x = x.reshape((x.shape[0], -1))\n",
    "        # DENSE BLOCK 1\n",
    "        x = nn.Dense(features=256)(x)\n",
    "        x = nn.Dropout(0.2, deterministic=not training)(x)\n",
    "        x = nn.relu(x)\n",
    "        # DENSE BLOCK 2\n",
    "        x = nn.Dense(features=128)(x)\n",
    "        x = nn.Dropout(0.2, deterministic=not training)(x)\n",
    "        x = nn.relu(x)\n",
    "        # LOGITS\n",
    "        x = nn.Dense(features=10)(x)\n",
    "        return x"
   ]
  },
  {
   "attachments": {},
   "cell_type": "markdown",
   "metadata": {},
   "source": [
    "## Level 3: CNN with Residual Blocks"
   ]
  },
  {
   "cell_type": "code",
   "execution_count": 5,
   "metadata": {},
   "outputs": [],
   "source": [
    "class BNDOMNISTResNet(nn.Module):\n",
    "\n",
    "    @nn.compact\n",
    "    def __call__(self, x, training):\n",
    "        ## RESIDUAL BLOCK 0-1\n",
    "        y = nn.Conv(features=16, kernel_size=(3, 3), padding='SAME')(x)\n",
    "        y = nn.BatchNorm(use_running_average=not training)(y)\n",
    "        x = x + y\n",
    "        x = nn.relu(x)\n",
    "        ## RESIDUAL BLOCK 0-2\n",
    "        y = nn.Conv(features=16, kernel_size=(3, 3), padding=\"SAME\")(x)\n",
    "        y = nn.BatchNorm(use_running_average=not training)(y)\n",
    "        x = x + y\n",
    "        x = nn.relu(x)\n",
    "        ## DOWNSAMPLE 0\n",
    "        x = nn.Conv(features=32, kernel_size=(3, 3))(x)\n",
    "        x = nn.BatchNorm(use_running_average=not training)(x)\n",
    "        x = nn.relu(x)\n",
    "        x = nn.avg_pool(x, window_shape=(2, 2), strides=(2, 2))\n",
    "        ## RESIDUAL BLOCK 1-1\n",
    "        y = nn.Conv(features=32, kernel_size=(3, 3), padding='SAME')(x)\n",
    "        y = nn.BatchNorm(use_running_average=not training)(y)\n",
    "        x = x + y\n",
    "        x = nn.relu(x)\n",
    "        ## RESIDUAL BLOCK 1-2\n",
    "        y = nn.Conv(features=32, kernel_size=(3, 3), padding=\"SAME\")(x)\n",
    "        y = nn.BatchNorm(use_running_average=not training)(y)\n",
    "        x = x + y\n",
    "        x = nn.relu(x)\n",
    "        ## DOWNSAMPLE 1\n",
    "        x = nn.Conv(features=64, kernel_size=(3, 3))(x)\n",
    "        x = nn.BatchNorm(use_running_average=not training)(x)\n",
    "        x = nn.relu(x)\n",
    "        x = nn.avg_pool(x, window_shape=(2, 2), strides=(2, 2))\n",
    "        # FLATTEN\n",
    "        x = x.reshape((x.shape[0], -1))\n",
    "        # DENSE BLOCK 1\n",
    "        x = nn.Dense(features=256)(x)\n",
    "        x = nn.Dropout(0.2, deterministic=not training)(x)\n",
    "        x = nn.relu(x)\n",
    "        # DENSE BLOCK 2\n",
    "        x = nn.Dense(features=128)(x)\n",
    "        x = nn.Dropout(0.2, deterministic=not training)(x)\n",
    "        x = nn.relu(x)\n",
    "        # LOGITS\n",
    "        x = nn.Dense(features=10)(x)\n",
    "        return x\n"
   ]
  },
  {
   "attachments": {},
   "cell_type": "markdown",
   "metadata": {},
   "source": [
    "## Level 4: Port ConvNeXt to JAX (with modular implementation)"
   ]
  },
  {
   "cell_type": "code",
   "execution_count": 6,
   "metadata": {},
   "outputs": [],
   "source": [
    "from typing import Optional, Tuple\n",
    "\n",
    "class Identity(nn.Module):\n",
    "    \"\"\"Do nothing!\n",
    "    \"\"\"\n",
    "    \n",
    "    @nn.compact\n",
    "    def __call__(self, inputs, **kwargs):\n",
    "        return inputs\n",
    "\n",
    "class DropPath(nn.Module):\n",
    "    \"\"\"Drop paths (Stochastic Depth) per sample  (when applied in main path of residual blocks).\n",
    "        Attributes:\n",
    "            rate: the drop probability.\n",
    "            deterministic: whether or not to apply droppath.\n",
    "            rng_collection: the rng collection name to use when requesting an rng key.\n",
    "    \"\"\"\n",
    "    rate: float\n",
    "    deterministic: Optional[bool] = None\n",
    "    rng_collection: str = 'dropout'\n",
    "\n",
    "    @nn.compact\n",
    "    def __call__(self, inputs, deterministic: Optional[bool] = None):\n",
    "        deterministic = nn.merge_param('deterministic', self.deterministic, deterministic)\n",
    "        \n",
    "        if (self.rate == 0.) or deterministic:\n",
    "            return inputs\n",
    "\n",
    "        keep_prob = 1. - self.rate\n",
    "        shape = (inputs.shape[0],) + (1,)*(inputs.ndim-1) # converts (s1, s2, s3, ...) to (s1, 1, 1, ...)\n",
    "        rng = self.make_rng(self.rng_collection)\n",
    "        # create a mask of 0s and 1s with p(0) = self.rate, p(1) = keep_prob\n",
    "        random_mask = keep_prob + jax.random.uniform(rng, shape, dtype=inputs.dtype)\n",
    "        random_mask = jnp.floor(random_mask) \n",
    "        return (inputs/keep_prob) * random_mask\n",
    "    \n",
    "class Block(nn.Module):\n",
    "    \"\"\"A ConvNeXt block.\n",
    "    \"\"\"\n",
    "    dim: int\n",
    "    drop_prob: Optional[float] = 0.\n",
    "    layer_scale_init_value: Optional[float] = 1e-6\n",
    "\n",
    "    def setup(self):\n",
    "        self.dwconv = nn.Conv(self.dim, kernel_size=(7,7), padding='SAME', feature_group_count=self.dim)\n",
    "        self.norm = nn.LayerNorm()\n",
    "        self.pwconv1 = nn.Dense(4*self.dim)\n",
    "        self.act = nn.gelu\n",
    "        self.pwconv2 = nn.Dense(self.dim)\n",
    "        self.gamma = self.param(\n",
    "            'gamma',\n",
    "            lambda key, s: self.layer_scale_init_value * jnp.ones(s, jnp.float32),\n",
    "            self.dim\n",
    "        ) if self.layer_scale_init_value > 0 else None\n",
    "        self.drop_path = DropPath(self.drop_prob) if self.drop_prob > 0. else Identity()\n",
    "\n",
    "    def __call__(self, x, training=False):\n",
    "        input = x\n",
    "        x = self.dwconv(x)\n",
    "        x = self.norm(x)\n",
    "        x = self.pwconv1(x)\n",
    "        x = self.act(x)\n",
    "        x = self.pwconv2(x)\n",
    "        if self.gamma is not None:\n",
    "            x = self.gamma * x\n",
    "        \n",
    "        x = input + self.drop_path(x, deterministic=not training)\n",
    "        return x\n",
    "\n",
    "class ConvNeXt(nn.Module):\n",
    "    \"\"\"JAX port of the ConvNeXt model\n",
    "    \"\"\"\n",
    "    in_chans: int = 3\n",
    "    num_classes: int = 10\n",
    "    depths: Tuple[int] = (3, 3, 9, 3)\n",
    "    dims: Tuple[int] = (96, 192, 384, 768)\n",
    "    drop_path_rate: float = 0.\n",
    "    layer_scale_init_value: float = 1e-6\n",
    "    head_init_scale: float = 1.\n",
    "\n",
    "    def setup(self):\n",
    "        downsample_layers = []\n",
    "        stem = nn.Sequential(\n",
    "            [nn.Conv(self.dims[0], kernel_size=(4,4), strides=4),\n",
    "            nn.LayerNorm()]\n",
    "        )\n",
    "        downsample_layers.append(stem)\n",
    "        for i in range(3):\n",
    "            downsample_layer = nn.Sequential(\n",
    "                [nn.LayerNorm(),\n",
    "                nn.Conv(self.dims[i+1], kernel_size=(2,2), strides=2)]\n",
    "            )\n",
    "            downsample_layers.append(downsample_layer)\n",
    "        self.downsample_layers = downsample_layers\n",
    "        \n",
    "        stages = []\n",
    "        dp_rates=[x.item() for x in np.linspace(0, self.drop_path_rate, np.sum(self.depths))]\n",
    "        cur = 0\n",
    "        for i in range(4):\n",
    "            stage = nn.Sequential(\n",
    "                [Block(dim=self.dims[i], drop_prob=dp_rates[cur+j],\n",
    "                layer_scale_init_value=self.layer_scale_init_value) for j in range(self.depths[i])]\n",
    "            )\n",
    "            stages.append(stage)\n",
    "            cur += self.depths[i]\n",
    "        self.stages = stages\n",
    "\n",
    "        self.norm = nn.LayerNorm()\n",
    "        self.head = nn.Dense(self.num_classes)\n",
    "\n",
    "    def __call__(self, x, training=False):\n",
    "        for i in range(4):\n",
    "            x = self.downsample_layers[i](x)\n",
    "            x = self.stages[i](x, training=training)\n",
    "        x = self.norm(x.mean([-2, -1]))\n",
    "        x = self.head(x)\n",
    "        return x"
   ]
  },
  {
   "attachments": {},
   "cell_type": "markdown",
   "metadata": {},
   "source": [
    "## Level 5: Load pretrained ConvNeXt weights from PyTorch onto the Flax model"
   ]
  },
  {
   "cell_type": "code",
   "execution_count": null,
   "metadata": {},
   "outputs": [],
   "source": [
    "# TODO"
   ]
  },
  {
   "attachments": {},
   "cell_type": "markdown",
   "metadata": {},
   "source": [
    "# Utilities"
   ]
  },
  {
   "cell_type": "code",
   "execution_count": 7,
   "metadata": {},
   "outputs": [],
   "source": [
    "def loss_and_metrics(logits, labels):\n",
    "    loss =  jnp.mean(\n",
    "        # takes care of one-hot encoding by itself\n",
    "        optax.softmax_cross_entropy_with_integer_labels(logits, labels)\n",
    "    )\n",
    "    # argmax on the last dim because we expect logits to be of shape (batch_size, n_classes)\n",
    "    accuracy = jnp.mean(\n",
    "        jnp.argmax(logits, -1) == labels\n",
    "    )\n",
    "    metrics = {\n",
    "        'loss': loss,\n",
    "        'accuracy': accuracy\n",
    "    }\n",
    "    return metrics"
   ]
  },
  {
   "cell_type": "code",
   "execution_count": 8,
   "metadata": {},
   "outputs": [],
   "source": [
    "def get_datasets(ds=\"mnist\", shape=None, half_precision=True):\n",
    "    import importlib\n",
    "    loader = importlib.import_module('keras.datasets.'+ds)\n",
    "    (X_train, y_train), (X_test, y_test) = loader.load_data()\n",
    "    X_train = np.expand_dims(np.float32(X_train)/255.0, -1)\n",
    "    X_test = np.expand_dims(np.float32(X_test)/255.0, -1)\n",
    "    if shape is not None:\n",
    "        from skimage.transform import resize\n",
    "        batch_dim_train = len(y_train)\n",
    "        batch_dim_test = len(y_test)\n",
    "        dtype = np.float32\n",
    "        if half_precision:\n",
    "            dtype = np.float16\n",
    "        assert len(shape) == 2, \"shape must be a tuple (H, W).\"\n",
    "        shape_train = (X_train.shape[0],) + shape + (X_train.shape[3],)\n",
    "        shape_test = (X_test.shape[0],) + shape + (X_test.shape[3],)\n",
    "        X_train_ts = np.zeros(shape_train, dtype=dtype)\n",
    "        X_test_ts = np.zeros(shape_test, dtype=dtype)\n",
    "        # TODO: Vectorize (vmap didn't work?)\n",
    "        for i in range(batch_dim_train):\n",
    "            X_train_ts[i] = resize(X_train[i], shape).astype(dtype)\n",
    "        for i in range(batch_dim_test):\n",
    "            X_test_ts[i] = resize(X_test[i], shape).astype(dtype)\n",
    "        X_train = X_train_ts\n",
    "        X_test = X_test_ts\n",
    "    return (X_train, y_train), (X_test, y_test)"
   ]
  },
  {
   "cell_type": "code",
   "execution_count": 9,
   "metadata": {},
   "outputs": [],
   "source": [
    "# TODO: don't waste last batch (pad last batch?)\n",
    "def batch_generator(X, y, batch_size, rng=None):\n",
    "    steps = len(y) // batch_size\n",
    "    idxs = jnp.arange(0, len(y))\n",
    "    if rng is not None:\n",
    "        idxs = jax.random.permutation(rng, idxs, independent=True)\n",
    "    idxs = idxs[:steps*batch_size]\n",
    "    idxs = idxs.reshape((steps, batch_size))\n",
    "\n",
    "    for idx in idxs:\n",
    "        yield jnp.array(X[idx, ...]), jnp.array(y[idx, ...])"
   ]
  },
  {
   "attachments": {},
   "cell_type": "markdown",
   "metadata": {},
   "source": [
    "# Training Steps"
   ]
  },
  {
   "cell_type": "code",
   "execution_count": 10,
   "metadata": {},
   "outputs": [],
   "source": [
    "@jax.jit\n",
    "def train_step_bndo(state, X_batch, y_batch):\n",
    "    # create a new dropout key\n",
    "    dropout_train_key = jax.random.fold_in(state.dropout_key, state.step)\n",
    "    def loss_fn(params, batch_stats, apply_fn):\n",
    "        # first argument of apply_fn is always a variables pytree\n",
    "        vars = {\n",
    "            'params': params,\n",
    "            'batch_stats': batch_stats\n",
    "        }\n",
    "        # apply_fn with non-empty `mutable` list ALSO returns a pytree of mutated_vars\n",
    "        # from that pytree we can extract `batch_stats`\n",
    "        logits, mutated_vars = apply_fn(\n",
    "            vars,\n",
    "            X_batch,\n",
    "            training=True, # set this to ensure BN is recording stats and dropout is active\n",
    "            mutable=['batch_stats'],\n",
    "            rngs={'dropout': dropout_train_key} # feed new rng key for consumption by dropout layers\n",
    "        )\n",
    "        loss = jnp.mean(\n",
    "            optax.softmax_cross_entropy_with_integer_labels(logits, y_batch)\n",
    "        )\n",
    "        return loss, (logits, mutated_vars['batch_stats'])\n",
    "    grad_fn = jax.value_and_grad(loss_fn, has_aux=True)\n",
    "    (_, (logits, new_batch_stats)), grads = grad_fn(state.params, state.batch_stats, state.apply_fn)\n",
    "    state = state.apply_gradients(grads=grads)\n",
    "    # update state.batch_stats after calculating updates by replacing old stats\n",
    "    # NOTE: state.batch_stats = new_batch_stats doesn't work because state.batch_stats is frozen by design (FrozenDict)\n",
    "    state = state.replace(batch_stats=new_batch_stats)\n",
    "    metrics = loss_and_metrics(logits, y_batch)\n",
    "    return state, metrics"
   ]
  },
  {
   "cell_type": "code",
   "execution_count": 11,
   "metadata": {},
   "outputs": [],
   "source": [
    "@jax.jit\n",
    "def train_step_convnext(state, X_batch, y_batch):\n",
    "    dropout_train_key= jax.random.fold_in(state.dropout_key, state.step)\n",
    "    def loss_fn(params, apply_fn):\n",
    "        vars = {'params': params}\n",
    "        logits = apply_fn(\n",
    "            vars, X_batch, training=True, rngs={'dropout': dropout_train_key}\n",
    "        )\n",
    "        loss = jnp.mean(\n",
    "            optax.softmax_cross_entropy_with_integer_labels(logits, y_batch)\n",
    "        )\n",
    "        return loss, logits\n",
    "    grad_fn = jax.value_and_grad(loss_fn, has_aux=True)\n",
    "    (_, logits), grads = grad_fn(state.params, state.apply_fn)\n",
    "    state = state.apply_gradients(grads=grads)\n",
    "    metrics = loss_and_metrics(logits, y_batch)\n",
    "    return state, metrics"
   ]
  },
  {
   "cell_type": "code",
   "execution_count": 12,
   "metadata": {},
   "outputs": [],
   "source": [
    "@jax.jit\n",
    "def train_step(state, X_batch, y_batch):\n",
    "    def loss_fn(params, apply_fn):\n",
    "        logits = apply_fn(\n",
    "            {'params': params},\n",
    "            X_batch\n",
    "        )\n",
    "        loss = jnp.mean(\n",
    "            optax.softmax_cross_entropy_with_integer_labels(logits, y_batch)\n",
    "        )\n",
    "        return loss, logits\n",
    "    # create a grad_fn from loss_fn\n",
    "    # try to put the variable with respect to which we want to differentiate at position 0 (`argnums` does some weird stuff)\n",
    "    grad_fn = jax.value_and_grad(loss_fn, has_aux=True)\n",
    "    (_, logits), grads = grad_fn(state.params, state.apply_fn)\n",
    "    # apply gradient updates to the state\n",
    "    state = state.apply_gradients(grads=grads)\n",
    "    # calculate metrics\n",
    "    metrics = loss_and_metrics(logits, y_batch)\n",
    "    return state, metrics"
   ]
  },
  {
   "attachments": {},
   "cell_type": "markdown",
   "metadata": {},
   "source": [
    "# Eval Steps"
   ]
  },
  {
   "cell_type": "code",
   "execution_count": 13,
   "metadata": {},
   "outputs": [],
   "source": [
    "@jax.jit\n",
    "def eval_step_bndo(state, X_batch, y_batch):\n",
    "    vars = {\n",
    "        'params': state.params,\n",
    "        'batch_stats': state.batch_stats\n",
    "    }\n",
    "    # apply_fn called with training=False to turn off dropout\n",
    "    # and use running stats from training\n",
    "    logits = state.apply_fn(\n",
    "        vars, X_batch, training=False        \n",
    "    )\n",
    "    return loss_and_metrics(logits, y_batch)"
   ]
  },
  {
   "cell_type": "code",
   "execution_count": 14,
   "metadata": {},
   "outputs": [],
   "source": [
    "@jax.jit\n",
    "def eval_step_convnext(state, X_batch, y_batch):\n",
    "    logits = state.apply_fn(\n",
    "        {'params': state.params}, X_batch, training=False\n",
    "    )\n",
    "    return loss_and_metrics(logits, y_batch)"
   ]
  },
  {
   "cell_type": "code",
   "execution_count": 15,
   "metadata": {},
   "outputs": [],
   "source": [
    "@jax.jit\n",
    "def eval_step(state, X_batch, y_batch):\n",
    "    logits = state.apply_fn(\n",
    "        {'params': state.params},\n",
    "        X_batch\n",
    "    )\n",
    "    return loss_and_metrics(logits, y_batch)"
   ]
  },
  {
   "attachments": {},
   "cell_type": "markdown",
   "metadata": {},
   "source": [
    "# Model Train and Eval"
   ]
  },
  {
   "cell_type": "code",
   "execution_count": 16,
   "metadata": {},
   "outputs": [],
   "source": [
    "# impossible to jit because of jax.device_get\n",
    "def train_one_epoch(state, X_train, y_train, batch_size, epoch, rng, mode='bndo'):\n",
    "    # TODO: scalability\n",
    "    if mode=='bndo':\n",
    "        train_fn = train_step_bndo\n",
    "    elif mode=='convnext':\n",
    "        train_fn = train_step_convnext\n",
    "    else:\n",
    "        train_fn = train_step\n",
    "    \n",
    "    batch_metrics = []\n",
    "    # collect batch metrics from each batch of data\n",
    "    for X_batch, y_batch in tqdm(batch_generator(X_train, y_train, batch_size, rng), total=len(y_train)//batch_size):\n",
    "        state, metrics = train_fn(state, X_batch, y_batch)\n",
    "        batch_metrics.append(metrics)\n",
    "    # call device_get to transfer them to CPU memory (NOTE: this is NOT jittable)\n",
    "    training_batch_metrics = jax.device_get(batch_metrics)\n",
    "    # build a pytree of metrics similar to the one that loss_and_metrics returns\n",
    "    training_epoch_metrics = {\n",
    "        k: np.mean([metrics[k] for metrics in training_batch_metrics])\n",
    "        for k in training_batch_metrics[0]\n",
    "    }\n",
    "\n",
    "    print(f'Training - epoch: {epoch:d} | loss: {training_epoch_metrics[\"loss\"]:.4f} | accuracy: {training_epoch_metrics[\"accuracy\"]:.4f}')\n",
    "\n",
    "    return state, training_epoch_metrics"
   ]
  },
  {
   "cell_type": "code",
   "execution_count": 17,
   "metadata": {},
   "outputs": [],
   "source": [
    "# impossible to jit because of jax.device_get\n",
    "def eval_model(state, X_test, y_test, batch_size, epoch, mode='bndo'):\n",
    "    if mode=='bndo':\n",
    "        eval_fn = eval_step_bndo\n",
    "    elif mode=='convnext':\n",
    "        eval_fn = eval_step_convnext\n",
    "    else:\n",
    "        eval_fn = eval_step\n",
    "\n",
    "    batch_metrics = []\n",
    "\n",
    "    for X_batch, y_batch in tqdm(batch_generator(X_test, y_test, batch_size), total=len(y_test)//batch_size):\n",
    "        metrics = eval_fn(state, X_batch, y_batch)\n",
    "        batch_metrics.append(metrics)\n",
    "\n",
    "    test_batch_metrics = jax.device_get(batch_metrics)\n",
    "    test_metrics = {\n",
    "        k: np.mean([metrics[k] for metrics in test_batch_metrics])\n",
    "        for k in test_batch_metrics[0]\n",
    "    }\n",
    "    \n",
    "    print(f'Testing  - epoch: {epoch:d} | loss: {test_metrics[\"loss\"]:.4f} | accuracy: {test_metrics[\"accuracy\"]:.4f}')\n",
    "    \n",
    "    return test_metrics"
   ]
  },
  {
   "cell_type": "code",
   "execution_count": 18,
   "metadata": {},
   "outputs": [],
   "source": [
    "def train_end_to_end(\n",
    "    state, training_mode,\n",
    "    X_train, y_train, X_test, y_test, rng,\n",
    "    lr=4e-3, num_epochs=10, batch_size=40,\n",
    "    visualize=True, checkpoint=True, ckpt_dir='checkpoints', model_name = \"Model\"\n",
    "):\n",
    "    train_loss, train_acc = [], []\n",
    "    test_loss, test_acc = [], []\n",
    "\n",
    "    for epoch in range(1, num_epochs + 1):\n",
    "        rng, input_rng = jax.random.split(rng)\n",
    "        state, train_metrics = train_one_epoch(state, X_train, y_train, batch_size, epoch, input_rng, mode=training_mode)\n",
    "        test_metrics = eval_model(state, X_test, y_test, batch_size, epoch, mode=training_mode)\n",
    "        train_loss.append(train_metrics['loss']); train_acc.append(train_metrics['accuracy'])\n",
    "        test_loss.append(test_metrics['loss']); test_acc.append(test_metrics['accuracy'])\n",
    "\n",
    "    if checkpoint:\n",
    "        ckpt = {\n",
    "            'model': state,\n",
    "            'config':{\n",
    "            'lr': lr,\n",
    "            'num_epochs': num_epochs,\n",
    "            'batch_size': batch_size,\n",
    "            'model_name': model_name\n",
    "            }\n",
    "        }\n",
    "        checkpoints.save_checkpoint(\n",
    "            ckpt_dir=ckpt_dir,\n",
    "            target=ckpt,\n",
    "            step=0,\n",
    "            overwrite=False,\n",
    "            keep=1,\n",
    "            prefix=training_mode\n",
    "        )\n",
    "\n",
    "    if visualize:\n",
    "        fig, axes = plt.subplots(1, 2)\n",
    "\n",
    "        axes[0].plot(train_loss, label='Train')\n",
    "        axes[0].plot(test_loss, label='Test')\n",
    "        axes[0].set_title('Training Loss vs. Test Loss')\n",
    "        axes[0].legend()\n",
    "\n",
    "        axes[1].plot(train_acc, label='Train')\n",
    "        axes[1].plot(test_acc, label='Test')\n",
    "        axes[1].set_title('Training Accuracy vs. Test Accuracy')\n",
    "        axes[1].legend()\n",
    "\n",
    "        plt.suptitle(str(model_name))\n",
    "        plt.tight_layout()\n",
    "        plt.show();"
   ]
  },
  {
   "attachments": {},
   "cell_type": "markdown",
   "metadata": {},
   "source": [
    "# Experiments"
   ]
  },
  {
   "cell_type": "code",
   "execution_count": 19,
   "metadata": {},
   "outputs": [],
   "source": [
    "### CUSTOM TRAINSTATE FOR BATCH NORM AND DROPOUT\n",
    "class TrainState(train_state.TrainState):\n",
    "    batch_stats: flax.core.FrozenDict = None\n",
    "    dropout_key: jax.random.KeyArray = None"
   ]
  },
  {
   "cell_type": "code",
   "execution_count": 20,
   "metadata": {},
   "outputs": [
    {
     "data": {
      "image/png": "[encoded data removed]",
      "text/plain": [
       "<Figure size 432x288 with 1 Axes>"
      ]
     },
     "metadata": {
      "needs_background": "light"
     },
     "output_type": "display_data"
    }
   ],
   "source": [
    "(X_train, y_train), (X_test, y_test) = get_datasets(ds=\"fashion_mnist\")\n",
    "plt.title(f'Ground Truth label: {y_train[0]}')\n",
    "plt.imshow(X_train[0]);"
   ]
  },
  {
   "cell_type": "code",
   "execution_count": 21,
   "metadata": {},
   "outputs": [],
   "source": [
    "rng = jax.random.PRNGKey(0)\n",
    "rng, init_rng = jax.random.split(rng)\n",
    "\n",
    "# model = SimpleMNISTCNN()\n",
    "# model = BNDOMNISTCNN()\n",
    "model = BNDOMNISTResNet()\n",
    "# model = ConvNeXt(in_chans=1, drop_path_rate=0.2)\n",
    "\n",
    "variables = model.init(init_rng, jnp.ones([1, 28, 28, 1]), training=False)\n",
    "# variables = model.init(init_rng, jnp.ones([1, 224, 224, 1]), training=False)\n",
    "\n",
    "params = variables['params']\n",
    "batch_stats = variables['batch_stats']"
   ]
  },
  {
   "cell_type": "code",
   "execution_count": 22,
   "metadata": {},
   "outputs": [
    {
     "name": "stderr",
     "output_type": "stream",
     "text": [
      "100%|██████████| 1500/1500 [00:11<00:00, 132.23it/s]\n"
     ]
    },
    {
     "name": "stdout",
     "output_type": "stream",
     "text": [
      "Training - epoch: 1 | loss: 0.4603 | accuracy: 0.8357\n"
     ]
    },
    {
     "name": "stderr",
     "output_type": "stream",
     "text": [
      "100%|██████████| 250/250 [00:01<00:00, 203.56it/s]\n"
     ]
    },
    {
     "name": "stdout",
     "output_type": "stream",
     "text": [
      "Testing  - epoch: 1 | loss: 0.3003 | accuracy: 0.8915\n"
     ]
    },
    {
     "name": "stderr",
     "output_type": "stream",
     "text": [
      "100%|██████████| 1500/1500 [00:06<00:00, 224.95it/s]\n"
     ]
    },
    {
     "name": "stdout",
     "output_type": "stream",
     "text": [
      "Training - epoch: 2 | loss: 0.2888 | accuracy: 0.8979\n"
     ]
    },
    {
     "name": "stderr",
     "output_type": "stream",
     "text": [
      "100%|██████████| 250/250 [00:00<00:00, 1061.79it/s]\n"
     ]
    },
    {
     "name": "stdout",
     "output_type": "stream",
     "text": [
      "Testing  - epoch: 2 | loss: 0.2561 | accuracy: 0.9072\n"
     ]
    },
    {
     "name": "stderr",
     "output_type": "stream",
     "text": [
      "100%|██████████| 1500/1500 [00:06<00:00, 239.44it/s]\n"
     ]
    },
    {
     "name": "stdout",
     "output_type": "stream",
     "text": [
      "Training - epoch: 3 | loss: 0.2420 | accuracy: 0.9154\n"
     ]
    },
    {
     "name": "stderr",
     "output_type": "stream",
     "text": [
      "100%|██████████| 250/250 [00:00<00:00, 1048.10it/s]\n"
     ]
    },
    {
     "name": "stdout",
     "output_type": "stream",
     "text": [
      "Testing  - epoch: 3 | loss: 0.3041 | accuracy: 0.8948\n"
     ]
    },
    {
     "name": "stderr",
     "output_type": "stream",
     "text": [
      "100%|██████████| 1500/1500 [00:06<00:00, 243.43it/s]\n"
     ]
    },
    {
     "name": "stdout",
     "output_type": "stream",
     "text": [
      "Training - epoch: 4 | loss: 0.2169 | accuracy: 0.9233\n"
     ]
    },
    {
     "name": "stderr",
     "output_type": "stream",
     "text": [
      "100%|██████████| 250/250 [00:00<00:00, 1114.11it/s]\n"
     ]
    },
    {
     "name": "stdout",
     "output_type": "stream",
     "text": [
      "Testing  - epoch: 4 | loss: 0.2425 | accuracy: 0.9140\n"
     ]
    },
    {
     "name": "stderr",
     "output_type": "stream",
     "text": [
      "100%|██████████| 1500/1500 [00:05<00:00, 252.37it/s]\n"
     ]
    },
    {
     "name": "stdout",
     "output_type": "stream",
     "text": [
      "Training - epoch: 5 | loss: 0.1934 | accuracy: 0.9315\n"
     ]
    },
    {
     "name": "stderr",
     "output_type": "stream",
     "text": [
      "100%|██████████| 250/250 [00:00<00:00, 1056.18it/s]\n"
     ]
    },
    {
     "name": "stdout",
     "output_type": "stream",
     "text": [
      "Testing  - epoch: 5 | loss: 0.2387 | accuracy: 0.9173\n"
     ]
    },
    {
     "name": "stderr",
     "output_type": "stream",
     "text": [
      "100%|██████████| 1500/1500 [00:06<00:00, 231.97it/s]\n"
     ]
    },
    {
     "name": "stdout",
     "output_type": "stream",
     "text": [
      "Training - epoch: 6 | loss: 0.1783 | accuracy: 0.9374\n"
     ]
    },
    {
     "name": "stderr",
     "output_type": "stream",
     "text": [
      "100%|██████████| 250/250 [00:00<00:00, 1021.18it/s]\n"
     ]
    },
    {
     "name": "stdout",
     "output_type": "stream",
     "text": [
      "Testing  - epoch: 6 | loss: 0.2408 | accuracy: 0.9198\n"
     ]
    },
    {
     "name": "stderr",
     "output_type": "stream",
     "text": [
      "100%|██████████| 1500/1500 [00:06<00:00, 246.45it/s]\n"
     ]
    },
    {
     "name": "stdout",
     "output_type": "stream",
     "text": [
      "Training - epoch: 7 | loss: 0.1646 | accuracy: 0.9410\n"
     ]
    },
    {
     "name": "stderr",
     "output_type": "stream",
     "text": [
      "100%|██████████| 250/250 [00:00<00:00, 1099.66it/s]\n"
     ]
    },
    {
     "name": "stdout",
     "output_type": "stream",
     "text": [
      "Testing  - epoch: 7 | loss: 0.2284 | accuracy: 0.9244\n"
     ]
    },
    {
     "name": "stderr",
     "output_type": "stream",
     "text": [
      "100%|██████████| 1500/1500 [00:05<00:00, 257.16it/s]\n"
     ]
    },
    {
     "name": "stdout",
     "output_type": "stream",
     "text": [
      "Training - epoch: 8 | loss: 0.1535 | accuracy: 0.9464\n"
     ]
    },
    {
     "name": "stderr",
     "output_type": "stream",
     "text": [
      "100%|██████████| 250/250 [00:00<00:00, 1145.43it/s]\n"
     ]
    },
    {
     "name": "stdout",
     "output_type": "stream",
     "text": [
      "Testing  - epoch: 8 | loss: 0.2799 | accuracy: 0.9113\n"
     ]
    },
    {
     "name": "stderr",
     "output_type": "stream",
     "text": [
      "100%|██████████| 1500/1500 [00:06<00:00, 214.59it/s]\n"
     ]
    },
    {
     "name": "stdout",
     "output_type": "stream",
     "text": [
      "Training - epoch: 9 | loss: 0.1443 | accuracy: 0.9492\n"
     ]
    },
    {
     "name": "stderr",
     "output_type": "stream",
     "text": [
      "100%|██████████| 250/250 [00:00<00:00, 971.86it/s] \n"
     ]
    },
    {
     "name": "stdout",
     "output_type": "stream",
     "text": [
      "Testing  - epoch: 9 | loss: 0.2478 | accuracy: 0.9232\n"
     ]
    },
    {
     "name": "stderr",
     "output_type": "stream",
     "text": [
      "100%|██████████| 1500/1500 [00:05<00:00, 250.80it/s]\n"
     ]
    },
    {
     "name": "stdout",
     "output_type": "stream",
     "text": [
      "Training - epoch: 10 | loss: 0.1374 | accuracy: 0.9522\n"
     ]
    },
    {
     "name": "stderr",
     "output_type": "stream",
     "text": [
      "100%|██████████| 250/250 [00:00<00:00, 1076.20it/s]\n"
     ]
    },
    {
     "name": "stdout",
     "output_type": "stream",
     "text": [
      "Testing  - epoch: 10 | loss: 0.2526 | accuracy: 0.9258\n"
     ]
    },
    {
     "data": {
      "image/png": "[encoded data removed]",
      "text/plain": [
       "<Figure size 432x288 with 2 Axes>"
      ]
     },
     "metadata": {
      "needs_background": "light"
     },
     "output_type": "display_data"
    }
   ],
   "source": [
    "lr = 4e-3\n",
    "model_name = str(model)[:str(model).index('(')]\n",
    "\n",
    "optimizer = optax.adamw(learning_rate=lr)\n",
    "rng, dropout_key = jax.random.split(rng)\n",
    "state = TrainState.create(\n",
    "    apply_fn=model.apply,\n",
    "    params=params,\n",
    "    tx=optimizer,\n",
    "    batch_stats=batch_stats,\n",
    "    dropout_key=dropout_key\n",
    ")\n",
    "\n",
    "train_end_to_end(\n",
    "    state, \"bndo\", X_train, y_train, X_test, y_test, rng,\n",
    "    lr=lr, num_epochs=10, batch_size=40, visualize=True, checkpoint=True, model_name=model_name\n",
    ")"
   ]
  }
 ],
 "metadata": {
  "kernelspec": {
   "display_name": "Python 3",
   "language": "python",
   "name": "python3"
  },
  "language_info": {
   "codemirror_mode": {
    "name": "ipython",
    "version": 3
   },
   "file_extension": ".py",
   "mimetype": "text/x-python",
   "name": "python",
   "nbconvert_exporter": "python",
   "pygments_lexer": "ipython3",
   "version": "3.10.6"
  },
  "orig_nbformat": 4,
  "vscode": {
   "interpreter": {
    "hash": "916dbcbb3f70747c44a77c7bcd40155683ae19c65e1c03b4aa3499c5328201f1"
   }
  }
 },
 "nbformat": 4,
 "nbformat_minor": 2
}
